{
 "cells": [
  {
   "cell_type": "code",
   "execution_count": 1,
   "metadata": {},
   "outputs": [],
   "source": [
    "import numpy as np\n",
    "\n",
    "from ortools.constraint_solver import routing_enums_pb2\n",
    "from ortools.constraint_solver import pywrapcp\n",
    "from tqdm import tqdm\n",
    "\n",
    "%matplotlib inline\n",
    "import matplotlib.pyplot as plt\n",
    "plt.style.use('seaborn-whitegrid')\n",
    "\n",
    "from network import Network\n",
    "from mcts import RandomMCTS, GreedyMCTS\n"
   ]
  },
  {
   "cell_type": "code",
   "execution_count": 2,
   "metadata": {},
   "outputs": [],
   "source": [
    "# functions of Google OR-Tools, for optimal solution\n",
    "\n",
    "def create_data_model(network):\n",
    "    \"\"\"Stores the data for the problem.\"\"\"\n",
    "    num_of_node = len(network.graph.nodes)\n",
    "    \n",
    "    data = {}\n",
    "    data['distance_matrix'] = []\n",
    "    \n",
    "    for i in range(num_of_node):\n",
    "        temp = [network.graph[i][j]['weight'] for j in range(num_of_node) if j!= i]\n",
    "        temp.insert(i, 0.0)\n",
    "        data['distance_matrix'].append(temp)\n",
    "\n",
    "    data['num_vehicles'] = 1\n",
    "    data['depot'] = 0\n",
    "    return data\n",
    "\n",
    "\n",
    "def distance_callback(from_index, to_index):\n",
    "    \"\"\"Returns the distance between the two nodes.\"\"\"\n",
    "    # Convert from routing variable Index to distance matrix NodeIndex.\n",
    "    from_node = manager.IndexToNode(from_index)\n",
    "    to_node = manager.IndexToNode(to_index)\n",
    "    return data['distance_matrix'][from_node][to_node]\n",
    "\n",
    "\n",
    "def print_solution(manager, routing, solution):\n",
    "    \"\"\"Prints solution on console.\"\"\"\n",
    "    print('Objective: {} miles'.format(solution.ObjectiveValue()))\n",
    "    index = routing.Start(0)\n",
    "    plan_output = 'Route for vehicle 0:\\n'\n",
    "    route_distance = 0\n",
    "    while not routing.IsEnd(index):\n",
    "        plan_output += ' {} ->'.format(manager.IndexToNode(index))\n",
    "        previous_index = index\n",
    "        index = solution.Value(routing.NextVar(index))\n",
    "        route_distance += routing.GetArcCostForVehicle(previous_index, index, 0)\n",
    "    plan_output += ' {}\\n'.format(manager.IndexToNode(index))\n",
    "    print(plan_output)\n",
    "    plan_output += 'Route distance: {}miles\\n'.format(route_distance)\n",
    "    "
   ]
  },
  {
   "cell_type": "code",
   "execution_count": 3,
   "metadata": {},
   "outputs": [
    {
     "name": "stderr",
     "output_type": "stream",
     "text": [
      "100%|██████████| 200/200 [00:18<00:00, 10.57it/s]\n",
      "  1%|          | 2/200 [00:00<00:22,  8.80it/s]"
     ]
    },
    {
     "name": "stdout",
     "output_type": "stream",
     "text": [
      "1\n",
      "0.445\n",
      "0.56\n"
     ]
    },
    {
     "name": "stderr",
     "output_type": "stream",
     "text": [
      "100%|██████████| 200/200 [00:17<00:00, 11.71it/s]\n",
      "  1%|          | 2/200 [00:00<00:21,  9.42it/s]"
     ]
    },
    {
     "name": "stdout",
     "output_type": "stream",
     "text": [
      "2\n",
      "0.58\n",
      "0.67\n"
     ]
    },
    {
     "name": "stderr",
     "output_type": "stream",
     "text": [
      "100%|██████████| 200/200 [00:20<00:00,  9.81it/s]\n",
      "  0%|          | 1/200 [00:00<00:32,  6.14it/s]"
     ]
    },
    {
     "name": "stdout",
     "output_type": "stream",
     "text": [
      "5\n",
      "0.61\n",
      "0.785\n"
     ]
    },
    {
     "name": "stderr",
     "output_type": "stream",
     "text": [
      "100%|██████████| 200/200 [00:29<00:00,  6.88it/s]\n",
      "  0%|          | 0/200 [00:00<?, ?it/s]"
     ]
    },
    {
     "name": "stdout",
     "output_type": "stream",
     "text": [
      "10\n",
      "0.695\n",
      "0.815\n"
     ]
    },
    {
     "name": "stderr",
     "output_type": "stream",
     "text": [
      "100%|██████████| 200/200 [00:54<00:00,  3.64it/s]\n",
      "  0%|          | 0/200 [00:00<?, ?it/s]"
     ]
    },
    {
     "name": "stdout",
     "output_type": "stream",
     "text": [
      "25\n",
      "0.775\n",
      "0.855\n"
     ]
    },
    {
     "name": "stderr",
     "output_type": "stream",
     "text": [
      "100%|██████████| 200/200 [01:44<00:00,  1.91it/s]\n",
      "  0%|          | 0/200 [00:00<?, ?it/s]"
     ]
    },
    {
     "name": "stdout",
     "output_type": "stream",
     "text": [
      "50\n",
      "0.82\n",
      "0.885\n"
     ]
    },
    {
     "name": "stderr",
     "output_type": "stream",
     "text": [
      "100%|██████████| 200/200 [02:32<00:00,  1.32it/s]\n",
      "  0%|          | 0/200 [00:00<?, ?it/s]"
     ]
    },
    {
     "name": "stdout",
     "output_type": "stream",
     "text": [
      "75\n",
      "0.78\n",
      "0.915\n"
     ]
    },
    {
     "name": "stderr",
     "output_type": "stream",
     "text": [
      "100%|██████████| 200/200 [03:17<00:00,  1.01it/s]\n",
      "  0%|          | 0/200 [00:00<?, ?it/s]"
     ]
    },
    {
     "name": "stdout",
     "output_type": "stream",
     "text": [
      "100\n",
      "0.81\n",
      "0.925\n"
     ]
    },
    {
     "name": "stderr",
     "output_type": "stream",
     "text": [
      "100%|██████████| 200/200 [04:59<00:00,  1.50s/it]\n",
      "  0%|          | 0/200 [00:00<?, ?it/s]"
     ]
    },
    {
     "name": "stdout",
     "output_type": "stream",
     "text": [
      "150\n",
      "0.855\n",
      "0.935\n"
     ]
    },
    {
     "name": "stderr",
     "output_type": "stream",
     "text": [
      "100%|██████████| 200/200 [06:45<00:00,  2.03s/it]\n",
      "  0%|          | 0/200 [00:00<?, ?it/s]"
     ]
    },
    {
     "name": "stdout",
     "output_type": "stream",
     "text": [
      "200\n",
      "0.815\n",
      "0.945\n"
     ]
    },
    {
     "name": "stderr",
     "output_type": "stream",
     "text": [
      "100%|██████████| 200/200 [08:23<00:00,  2.52s/it]"
     ]
    },
    {
     "name": "stdout",
     "output_type": "stream",
     "text": [
      "250\n",
      "0.82\n",
      "0.95\n"
     ]
    },
    {
     "name": "stderr",
     "output_type": "stream",
     "text": [
      "\n"
     ]
    }
   ],
   "source": [
    "num_of_node = 10\n",
    "side_length = 100\n",
    "prob_greedy = 0.3\n",
    "\n",
    "num_of_sample = 200\n",
    "list_num_simulation = np.array([1,2,5,10,25,50,75,100,150,200,250])\n",
    "\n",
    "mcts_random_prop = []\n",
    "mcts_greedy_prop = []\n",
    "\n",
    "for num_simulation in list_num_simulation:\n",
    "    np.random.seed(2020)\n",
    "    mcts_random_cost = []\n",
    "    mcts_greedy_cost = []\n",
    "    optimal_cost = []\n",
    "\n",
    "    for i in tqdm(range(num_of_sample)):\n",
    "        ### random sample of a TSP\n",
    "        network = Network(num_of_node, side_length)\n",
    "\n",
    "        ### mcts 1 - random\n",
    "        random_mcts = RandomMCTS(network)\n",
    "        edges, cost = random_mcts.run(50, num_simulation, 1000)   # takes (number to expand, number to simulate, and constant C)\n",
    "        mcts_random_cost.append(cost)\n",
    "\n",
    "        ### mcts 2 - greedy\n",
    "        greedy_mcts = GreedyMCTS(network, prob_greedy)\n",
    "        edges, cost = greedy_mcts.run(50, num_simulation, 1000)\n",
    "        mcts_greedy_cost.append(cost)\n",
    "\n",
    "        ### optimal solution by Google OR-Tools\n",
    "        data = create_data_model(network)\n",
    "        # Create the routing index manager.\n",
    "        manager = pywrapcp.RoutingIndexManager(len(data['distance_matrix']), data['num_vehicles'], data['depot'])\n",
    "\n",
    "        # Create Routing Model.\n",
    "        routing = pywrapcp.RoutingModel(manager)\n",
    "        transit_callback_index = routing.RegisterTransitCallback(distance_callback)\n",
    "\n",
    "        # Define cost of each arc.\n",
    "        routing.SetArcCostEvaluatorOfAllVehicles(transit_callback_index)\n",
    "\n",
    "        # Setting first solution heuristic.\n",
    "        search_parameters = pywrapcp.DefaultRoutingSearchParameters()\n",
    "        search_parameters.first_solution_strategy = (routing_enums_pb2.FirstSolutionStrategy.PATH_CHEAPEST_ARC)\n",
    "\n",
    "        # Solve the problem.\n",
    "        solution = routing.SolveWithParameters(search_parameters)\n",
    "        optimal_cost.append(solution.ObjectiveValue())\n",
    "\n",
    "    mcts_random_cost = np.array(mcts_random_cost)\n",
    "    mcts_greedy_cost = np.array(mcts_greedy_cost)\n",
    "    optimal_cost = np.array(optimal_cost)\n",
    "    \n",
    "    mcts_random_prop.append(sum(mcts_random_cost < 1.1*optimal_cost)/num_of_sample)\n",
    "    mcts_greedy_prop.append(sum(mcts_greedy_cost < 1.1*optimal_cost)/num_of_sample)\n",
    "    \n",
    "    print(num_simulation)\n",
    "    print(sum(mcts_random_cost < 1.1*optimal_cost)/num_of_sample)\n",
    "    print(sum(mcts_greedy_cost < 1.1*optimal_cost)/num_of_sample)\n"
   ]
  },
  {
   "cell_type": "code",
   "execution_count": 4,
   "metadata": {},
   "outputs": [
    {
     "data": {
      "text/plain": [
       "<matplotlib.legend.Legend at 0x7fe5ee184750>"
      ]
     },
     "execution_count": 4,
     "metadata": {},
     "output_type": "execute_result"
    },
    {
     "data": {
      "image/png": "[encoded data removed]",
      "text/plain": [
       "<Figure size 720x504 with 1 Axes>"
      ]
     },
     "metadata": {},
     "output_type": "display_data"
    }
   ],
   "source": [
    "f = plt.figure(figsize = (10,7))\n",
    "plt.plot(list_num_simulation, mcts_random_prop, linewidth=3, label=\"random MCTS\")\n",
    "plt.plot(list_num_simulation, mcts_greedy_prop, linewidth=3, label=\"greedy MCTS\")\n",
    "plt.xlabel('number of simulation', size=15)\n",
    "plt.ylabel('Proportion of 1.1-optimal solution', size=15)\n",
    "plt.legend(loc='lower right', fontsize=15)"
   ]
  }
 ],
 "metadata": {
  "kernelspec": {
   "display_name": "Python 3",
   "language": "python",
   "name": "python3"
  },
  "language_info": {
   "codemirror_mode": {
    "name": "ipython",
    "version": 3
   },
   "file_extension": ".py",
   "mimetype": "text/x-python",
   "name": "python",
   "nbconvert_exporter": "python",
   "pygments_lexer": "ipython3",
   "version": "3.7.4"
  }
 },
 "nbformat": 4,
 "nbformat_minor": 4
}
